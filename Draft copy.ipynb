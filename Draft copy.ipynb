{
 "cells": [
  {
   "cell_type": "markdown",
   "metadata": {},
   "source": [
    "Task 1: Multi-layer ANN\n",
    "\n",
    "Hyperparameters:\n",
    " 1. Number of nodes\n",
    " 2. Number of layers\n",
    " 3. Activation function"
   ]
  },
  {
   "cell_type": "code",
   "execution_count": 24,
   "metadata": {},
   "outputs": [],
   "source": [
    "# Load library\n",
    "import pandas as pd\n",
    "import numpy as np\n",
    "import math\n",
    "from enum import Enum\n",
    "from sklearn.model_selection import train_test_split"
   ]
  },
  {
   "cell_type": "code",
   "execution_count": 25,
   "metadata": {},
   "outputs": [
    {
     "data": {
      "text/html": [
       "<div>\n",
       "<style scoped>\n",
       "    .dataframe tbody tr th:only-of-type {\n",
       "        vertical-align: middle;\n",
       "    }\n",
       "\n",
       "    .dataframe tbody tr th {\n",
       "        vertical-align: top;\n",
       "    }\n",
       "\n",
       "    .dataframe thead th {\n",
       "        text-align: right;\n",
       "    }\n",
       "</style>\n",
       "<table border=\"1\" class=\"dataframe\">\n",
       "  <thead>\n",
       "    <tr style=\"text-align: right;\">\n",
       "      <th></th>\n",
       "      <th>cement</th>\n",
       "      <th>blast_furnace_slag</th>\n",
       "      <th>fly_ash</th>\n",
       "      <th>water</th>\n",
       "      <th>superplasticizer</th>\n",
       "      <th>coarse_aggregate</th>\n",
       "      <th>fine_aggregate</th>\n",
       "      <th>age</th>\n",
       "      <th>concrete_compressive_strength</th>\n",
       "    </tr>\n",
       "  </thead>\n",
       "  <tbody>\n",
       "    <tr>\n",
       "      <th>0</th>\n",
       "      <td>540.0</td>\n",
       "      <td>0.0</td>\n",
       "      <td>0.0</td>\n",
       "      <td>162.0</td>\n",
       "      <td>2.5</td>\n",
       "      <td>1040.0</td>\n",
       "      <td>676.0</td>\n",
       "      <td>28</td>\n",
       "      <td>79.99</td>\n",
       "    </tr>\n",
       "    <tr>\n",
       "      <th>1</th>\n",
       "      <td>540.0</td>\n",
       "      <td>0.0</td>\n",
       "      <td>0.0</td>\n",
       "      <td>162.0</td>\n",
       "      <td>2.5</td>\n",
       "      <td>1055.0</td>\n",
       "      <td>676.0</td>\n",
       "      <td>28</td>\n",
       "      <td>61.89</td>\n",
       "    </tr>\n",
       "    <tr>\n",
       "      <th>2</th>\n",
       "      <td>332.5</td>\n",
       "      <td>142.5</td>\n",
       "      <td>0.0</td>\n",
       "      <td>228.0</td>\n",
       "      <td>0.0</td>\n",
       "      <td>932.0</td>\n",
       "      <td>594.0</td>\n",
       "      <td>270</td>\n",
       "      <td>40.27</td>\n",
       "    </tr>\n",
       "    <tr>\n",
       "      <th>3</th>\n",
       "      <td>332.5</td>\n",
       "      <td>142.5</td>\n",
       "      <td>0.0</td>\n",
       "      <td>228.0</td>\n",
       "      <td>0.0</td>\n",
       "      <td>932.0</td>\n",
       "      <td>594.0</td>\n",
       "      <td>365</td>\n",
       "      <td>41.05</td>\n",
       "    </tr>\n",
       "    <tr>\n",
       "      <th>4</th>\n",
       "      <td>198.6</td>\n",
       "      <td>132.4</td>\n",
       "      <td>0.0</td>\n",
       "      <td>192.0</td>\n",
       "      <td>0.0</td>\n",
       "      <td>978.4</td>\n",
       "      <td>825.5</td>\n",
       "      <td>360</td>\n",
       "      <td>44.30</td>\n",
       "    </tr>\n",
       "  </tbody>\n",
       "</table>\n",
       "</div>"
      ],
      "text/plain": [
       "   cement  blast_furnace_slag  fly_ash  water  superplasticizer  \\\n",
       "0   540.0                 0.0      0.0  162.0               2.5   \n",
       "1   540.0                 0.0      0.0  162.0               2.5   \n",
       "2   332.5               142.5      0.0  228.0               0.0   \n",
       "3   332.5               142.5      0.0  228.0               0.0   \n",
       "4   198.6               132.4      0.0  192.0               0.0   \n",
       "\n",
       "   coarse_aggregate  fine_aggregate   age  concrete_compressive_strength  \n",
       "0            1040.0            676.0   28                          79.99  \n",
       "1            1055.0            676.0   28                          61.89  \n",
       "2             932.0            594.0  270                          40.27  \n",
       "3             932.0            594.0  365                          41.05  \n",
       "4             978.4            825.5  360                          44.30  "
      ]
     },
     "execution_count": 25,
     "metadata": {},
     "output_type": "execute_result"
    }
   ],
   "source": [
    "# Load data\n",
    "concrete = pd.read_csv('data/concrete_data.csv')\n",
    "concrete.head()"
   ]
  },
  {
   "cell_type": "code",
   "execution_count": 26,
   "metadata": {},
   "outputs": [],
   "source": [
    "# Separate X and Y\n",
    "# Then separate test and train set\n",
    "# Also do the Cross-Validation (optional)\n",
    "X = concrete.drop('concrete_compressive_strength', axis = 1)\n",
    "y = concrete['concrete_compressive_strength']\n",
    "\n",
    "X_train, X_test, y_train, y_test = train_test_split(X, y, test_size = 0.7, random_state = 42)"
   ]
  },
  {
   "cell_type": "code",
   "execution_count": 27,
   "metadata": {},
   "outputs": [],
   "source": [
    "# Activation function\n",
    "def logistic(x):\n",
    "    return 1/(1 + math.exp(-x))\n",
    "\n",
    "def ReLU(x):\n",
    "    return max(0, x)\n",
    "\n",
    "def hyperbolic(x):\n",
    "    return math.tanh(x)\n",
    "\n",
    "class ActFunc(Enum):\n",
    "    log = logistic\n",
    "    relu = ReLU\n",
    "    hb = hyperbolic"
   ]
  },
  {
   "cell_type": "code",
   "execution_count": 28,
   "metadata": {},
   "outputs": [],
   "source": [
    "# Neural Network test!\n",
    "from neuralNet import neuralNet\n",
    "from layer import layer\n",
    "\n",
    "network = neuralNet()\n",
    "\n",
    "network.add(layer(ActFunc.relu,3))\n",
    "#network.add(layer(ActFunc.relu,8))\n",
    "#network.add(layer(ActFunc.hb, 10))\n",
    "network.add(layer(ActFunc.relu,1))"
   ]
  },
  {
   "cell_type": "markdown",
   "metadata": {},
   "source": [
    "Applying NN on the concrete data"
   ]
  },
  {
   "cell_type": "code",
   "execution_count": 40,
   "metadata": {},
   "outputs": [
    {
     "name": "stdout",
     "output_type": "stream",
     "text": [
      "Current best mae: 46624.956333190195\n",
      "Current best mae: 42972.463935989246\n",
      "Current best mae: 42939.82956490358\n",
      "Current best mae: 30128.83496357125\n",
      "Current best mae: 26601.338859063893\n",
      "Current best mae: 20645.5642131235\n",
      "Current best mae: 15679.900886773376\n",
      "Current best mae: 11098.107947578694\n",
      "Current best mae: 8666.053573556203\n",
      "Current best mae: 6170.799375161087\n",
      "Current best mae: 4984.456470201047\n",
      "Current best mae: 3628.6974188931026\n",
      "Current best mae: 3052.562127940951\n",
      "Current best mae: 2495.8319819820244\n",
      "Current best mae: 1835.87338290992\n",
      "Current best mae: 1638.3404737564706\n",
      "Current best mae: 1036.3466631701815\n",
      "Current best mae: 282.8788631779462\n",
      "Final best mae 282.8788631779462\n"
     ]
    }
   ],
   "source": [
    "# PSO test!\n",
    "import pso\n",
    "\n",
    "swarmsize = 10\n",
    "alpha = 0.7\n",
    "beta = 2\n",
    "gamma = 1.5\n",
    "delta = 1.5\n",
    "epsilon = 0.4\n",
    "n_iter = 10\n",
    "\n",
    "particle_swarm_opti = pso.PSO(X_train, y_train, network, swarmsize, alpha, beta, gamma, delta, epsilon, n_iter)\n",
    "opti_particle, best_mae_arr = particle_swarm_opti.optimise()\n",
    "\n"
   ]
  },
  {
   "cell_type": "code",
   "execution_count": 30,
   "metadata": {},
   "outputs": [
    {
     "data": {
      "text/plain": [
       "[1981.1088344245757,\n",
       " 730.8029745410014,\n",
       " 580.3558388762057,\n",
       " 166.4686856758687,\n",
       " 141.0648385341519,\n",
       " 89.45840522653579,\n",
       " 34.65535753761032,\n",
       " 34.47567592264139]"
      ]
     },
     "execution_count": 30,
     "metadata": {},
     "output_type": "execute_result"
    }
   ],
   "source": [
    "best_mae_arr"
   ]
  },
  {
   "cell_type": "code",
   "execution_count": 31,
   "metadata": {},
   "outputs": [
    {
     "data": {
      "text/plain": [
       "34.47567592264139"
      ]
     },
     "execution_count": 31,
     "metadata": {},
     "output_type": "execute_result"
    }
   ],
   "source": [
    "# Testing the optimisation\n",
    "# Ooooo bad bad result :D\n",
    "particle_swarm_opti.assessFitness(opti_particle, y_train)"
   ]
  },
  {
   "cell_type": "code",
   "execution_count": 32,
   "metadata": {},
   "outputs": [
    {
     "data": {
      "text/plain": [
       "35.73954729803863"
      ]
     },
     "execution_count": 32,
     "metadata": {},
     "output_type": "execute_result"
    }
   ],
   "source": [
    "# Testing with the test set\n",
    "weights, bias = particle_swarm_opti.assessFitness_helper(opti_particle) # Extract the optimised weight and bias\n",
    "# Apply on the NN\n",
    "y_pred = X_test.apply(network.forwardCalculation, args = (weights, bias), axis = 1)\n",
    "mse = network.sseCalculation(y_pred, y_test)\n",
    "mse"
   ]
  },
  {
   "cell_type": "code",
   "execution_count": 33,
   "metadata": {},
   "outputs": [],
   "source": [
    "# Potential ranges of PSO parameters to try\n",
    "# Could try them like a gridsearch but its probably a bit too much for that, tuning one at a time is probably the way to go\n",
    "\n",
    "alphaRange = np.arange(0.4,0.9,0.1)\n",
    "betaRange = np.arange(1.5,2.5,0.1)\n",
    "gammaRange = np.arange(1.5,2.5,0.1)\n",
    "deltaRange = np.arange(1.5,2.5,0.1)\n",
    "epsilonRange = np.arange(0.1,0.5,0.1) # not sure about the range of the learning rate, might need to experiment or look for more sources"
   ]
  },
  {
   "cell_type": "code",
   "execution_count": 34,
   "metadata": {},
   "outputs": [],
   "source": [
    "#alpha tuning\n",
    "\n",
    "accuracies = []\n",
    "\n",
    "for alpha in alphaRange:\n",
    "    network = neuralNet()"
   ]
  },
  {
   "cell_type": "code",
   "execution_count": 35,
   "metadata": {},
   "outputs": [],
   "source": [
    "# Try neural network architectures\n",
    "# 2-10 layers\n",
    "# 3-10 neurons per layer\n",
    "\n",
    "layers = range(15,22)\n",
    "\n",
    "# Try different layers\n",
    "# Constant 4 neurons per layer, activation func relu\n",
    "\n",
    "accuraciesForLayers = []\n",
    "for numLayers in layers:\n",
    "    network = neuralNet()\n",
    "    for i in range(numLayers):\n",
    "        network.add(layer(ActFunc.relu,4))\n",
    "    layerTestPSO = pso.PSO(X_train, y_train, network, swarmsize, alpha, beta, gamma, delta, epsilon, n_iter,prints=False)\n",
    "    opti_particle, best_mae_arr = layerTestPSO.optimise()\n",
    "    accuraciesForLayers.append(best_mae_arr[-1])\n"
   ]
  },
  {
   "cell_type": "code",
   "execution_count": 36,
   "metadata": {},
   "outputs": [
    {
     "data": {
      "text/plain": [
       "[12.671516033560886,\n",
       " 36.02132686084142,\n",
       " 15.427472643768116,\n",
       " 17.458108364350892,\n",
       " 22.668423128830145,\n",
       " 36.02132686084142,\n",
       " 20.181922898595293]"
      ]
     },
     "execution_count": 36,
     "metadata": {},
     "output_type": "execute_result"
    }
   ],
   "source": [
    "accuraciesForLayers"
   ]
  },
  {
   "cell_type": "code",
   "execution_count": 37,
   "metadata": {},
   "outputs": [],
   "source": [
    "neurons = range(3,11)\n",
    "\n",
    "accuraciesForNeuronCounts = []\n",
    "\n",
    "for neuronCount in neurons:\n",
    "    network = neuralNet()\n",
    "    for i in range(5):\n",
    "        network.add(layer(ActFunc.relu,neuronCount))\n",
    "    neuronsTestPSO = pso.PSO(X_train, y_train, network, swarmsize, alpha, beta, gamma, delta, epsilon, n_iter,prints=False)\n",
    "    opti_particle, best_mae_arr = neuronsTestPSO.optimise()\n",
    "    accuraciesForNeuronCounts.append(best_mae_arr[-1])"
   ]
  },
  {
   "cell_type": "code",
   "execution_count": 38,
   "metadata": {},
   "outputs": [
    {
     "data": {
      "text/plain": [
       "[18.06420657143566,\n",
       " 17.914790150586615,\n",
       " 26.219428354768205,\n",
       " 36.01887537252918,\n",
       " 36.02132686084142,\n",
       " 35.896069046074345,\n",
       " 36.02132686084142,\n",
       " 35.61476303081232]"
      ]
     },
     "execution_count": 38,
     "metadata": {},
     "output_type": "execute_result"
    }
   ],
   "source": [
    "accuraciesForNeuronCounts"
   ]
  },
  {
   "cell_type": "code",
   "execution_count": 41,
   "metadata": {},
   "outputs": [],
   "source": [
    "accuraciesForAlphas = []\n",
    "\n",
    "for a in alphaRange:\n",
    "    network = neuralNet()\n",
    "    for i in range(5):\n",
    "        network.add(layer(ActFunc.relu,5))\n",
    "    alphaTestPSO = pso.PSO(X_train, y_train, network, swarmsize, a, beta, gamma, delta, epsilon, n_iter,prints=False)\n",
    "    opti_particle, best_mae_arr = alphaTestPSO.optimise()\n",
    "    accuraciesForAlphas.append(best_mae_arr[-1])"
   ]
  },
  {
   "cell_type": "code",
   "execution_count": 42,
   "metadata": {},
   "outputs": [],
   "source": [
    "accuraciesForBetas = []\n",
    "\n",
    "for b in betaRange:\n",
    "    network = neuralNet()\n",
    "    for i in range(5):\n",
    "        network.add(layer(ActFunc.relu,5))\n",
    "    betaTestPSO = pso.PSO(X_train, y_train, network, swarmsize, alpha, b, gamma, delta, epsilon, n_iter,prints=False)\n",
    "    opti_particle, best_mae_arr = betaTestPSO.optimise()\n",
    "    accuraciesForBetas.append(best_mae_arr[-1])"
   ]
  },
  {
   "cell_type": "code",
   "execution_count": 43,
   "metadata": {},
   "outputs": [],
   "source": [
    "accuraciesForGammas = []\n",
    "\n",
    "for g in gammaRange:\n",
    "    network = neuralNet()\n",
    "    for i in range(5):\n",
    "        network.add(layer(ActFunc.relu,5))\n",
    "    gammaTestPSO = pso.PSO(X_train, y_train, network, swarmsize, alpha, beta, g, delta, epsilon, n_iter,prints=False)\n",
    "    opti_particle, best_mae_arr = gammaTestPSO.optimise()\n",
    "    accuraciesForGammas.append(best_mae_arr[-1])"
   ]
  },
  {
   "cell_type": "code",
   "execution_count": 44,
   "metadata": {},
   "outputs": [],
   "source": [
    "accuraciesForDeltas = []\n",
    "\n",
    "for d in deltaRange:\n",
    "    network = neuralNet()\n",
    "    for i in range(5):\n",
    "        network.add(layer(ActFunc.relu,5))\n",
    "    deltaTestPSO = pso.PSO(X_train, y_train, network, swarmsize, alpha, beta, gamma, d, epsilon, n_iter,prints=False)\n",
    "    opti_particle, best_mae_arr = deltaTestPSO.optimise()\n",
    "    accuraciesForDeltas.append(best_mae_arr[-1])"
   ]
  },
  {
   "cell_type": "code",
   "execution_count": 45,
   "metadata": {},
   "outputs": [],
   "source": [
    "accuraciesForEpsilons = []\n",
    "\n",
    "for e in epsilonRange:\n",
    "    network = neuralNet()\n",
    "    for i in range(5):\n",
    "        network.add(layer(ActFunc.relu,5))\n",
    "    epsilonTestPSO = pso.PSO(X_train, y_train, network, swarmsize, alpha, beta, gamma, delta, e, n_iter,prints=False)\n",
    "    opti_particle, best_mae_arr = epsilonTestPSO.optimise()\n",
    "    accuraciesForEpsilons.append(best_mae_arr[-1])"
   ]
  },
  {
   "cell_type": "code",
   "execution_count": 46,
   "metadata": {},
   "outputs": [
    {
     "data": {
      "text/plain": [
       "[11187.955357059938,\n",
       " 4536.702848336024,\n",
       " 3705.033206378822,\n",
       " 36.02132686084142,\n",
       " 36.02132686084142]"
      ]
     },
     "execution_count": 46,
     "metadata": {},
     "output_type": "execute_result"
    }
   ],
   "source": [
    "accuraciesForAlphas"
   ]
  },
  {
   "cell_type": "code",
   "execution_count": 47,
   "metadata": {},
   "outputs": [
    {
     "data": {
      "text/plain": [
       "[36.02132686084142,\n",
       " 36.02132686084142,\n",
       " 36.02132686084142,\n",
       " 35.23507257898897,\n",
       " 36.02132686084142,\n",
       " 36.02132686084142,\n",
       " 34.23864760064656,\n",
       " 36.02132686084142,\n",
       " 27.136141586224948,\n",
       " 36.02132686084142]"
      ]
     },
     "execution_count": 47,
     "metadata": {},
     "output_type": "execute_result"
    }
   ],
   "source": [
    "accuraciesForBetas"
   ]
  },
  {
   "cell_type": "code",
   "execution_count": 48,
   "metadata": {},
   "outputs": [
    {
     "data": {
      "text/plain": [
       "[36.02132686084142,\n",
       " 36.02132686084142,\n",
       " 36.02132686084142,\n",
       " 35.811375512024426,\n",
       " 36.02132686084142,\n",
       " 556.4635929531196,\n",
       " 36.02132686084142,\n",
       " 18.593821785284703,\n",
       " 36.02132686084142,\n",
       " 36.02132686084142]"
      ]
     },
     "execution_count": 48,
     "metadata": {},
     "output_type": "execute_result"
    }
   ],
   "source": [
    "accuraciesForGammas"
   ]
  },
  {
   "cell_type": "code",
   "execution_count": 50,
   "metadata": {},
   "outputs": [
    {
     "data": {
      "text/plain": [
       "[36.02132686084142,\n",
       " 25.330438571501094,\n",
       " 36.02132686084142,\n",
       " 36.02132686084142,\n",
       " 36.02132686084142,\n",
       " 13.544943769553884,\n",
       " 35.6267783222779,\n",
       " 36.02132686084142,\n",
       " 36.02132686084142,\n",
       " 34.92077519213428]"
      ]
     },
     "execution_count": 50,
     "metadata": {},
     "output_type": "execute_result"
    }
   ],
   "source": [
    "accuraciesForDeltas"
   ]
  },
  {
   "cell_type": "code",
   "execution_count": 51,
   "metadata": {},
   "outputs": [
    {
     "data": {
      "text/plain": [
       "[22375.95185847099, 16543.30489094261, 36.02132686084142, 31.54029105802592]"
      ]
     },
     "execution_count": 51,
     "metadata": {},
     "output_type": "execute_result"
    }
   ],
   "source": [
    "accuraciesForEpsilons"
   ]
  },
  {
   "cell_type": "code",
   "execution_count": null,
   "metadata": {},
   "outputs": [],
   "source": []
  }
 ],
 "metadata": {
  "kernelspec": {
   "display_name": "base",
   "language": "python",
   "name": "python3"
  },
  "language_info": {
   "codemirror_mode": {
    "name": "ipython",
    "version": 3
   },
   "file_extension": ".py",
   "mimetype": "text/x-python",
   "name": "python",
   "nbconvert_exporter": "python",
   "pygments_lexer": "ipython3",
   "version": "3.12.4"
  }
 },
 "nbformat": 4,
 "nbformat_minor": 2
}
