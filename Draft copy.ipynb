{
 "cells": [
  {
   "cell_type": "markdown",
   "metadata": {},
   "source": [
    "Task 1: Multi-layer ANN\n",
    "\n",
    "Hyperparameters:\n",
    " 1. Number of nodes\n",
    " 2. Number of layers\n",
    " 3. Activation function"
   ]
  },
  {
   "cell_type": "code",
   "execution_count": 50,
   "metadata": {},
   "outputs": [],
   "source": [
    "# Load library\n",
    "import pandas as pd\n",
    "import numpy as np\n",
    "import math\n",
    "from enum import Enum\n",
    "from sklearn.model_selection import train_test_split"
   ]
  },
  {
   "cell_type": "code",
   "execution_count": 51,
   "metadata": {},
   "outputs": [
    {
     "data": {
      "text/html": [
       "<div>\n",
       "<style scoped>\n",
       "    .dataframe tbody tr th:only-of-type {\n",
       "        vertical-align: middle;\n",
       "    }\n",
       "\n",
       "    .dataframe tbody tr th {\n",
       "        vertical-align: top;\n",
       "    }\n",
       "\n",
       "    .dataframe thead th {\n",
       "        text-align: right;\n",
       "    }\n",
       "</style>\n",
       "<table border=\"1\" class=\"dataframe\">\n",
       "  <thead>\n",
       "    <tr style=\"text-align: right;\">\n",
       "      <th></th>\n",
       "      <th>cement</th>\n",
       "      <th>blast_furnace_slag</th>\n",
       "      <th>fly_ash</th>\n",
       "      <th>water</th>\n",
       "      <th>superplasticizer</th>\n",
       "      <th>coarse_aggregate</th>\n",
       "      <th>fine_aggregate</th>\n",
       "      <th>age</th>\n",
       "      <th>concrete_compressive_strength</th>\n",
       "    </tr>\n",
       "  </thead>\n",
       "  <tbody>\n",
       "    <tr>\n",
       "      <th>0</th>\n",
       "      <td>540.0</td>\n",
       "      <td>0.0</td>\n",
       "      <td>0.0</td>\n",
       "      <td>162.0</td>\n",
       "      <td>2.5</td>\n",
       "      <td>1040.0</td>\n",
       "      <td>676.0</td>\n",
       "      <td>28</td>\n",
       "      <td>79.99</td>\n",
       "    </tr>\n",
       "    <tr>\n",
       "      <th>1</th>\n",
       "      <td>540.0</td>\n",
       "      <td>0.0</td>\n",
       "      <td>0.0</td>\n",
       "      <td>162.0</td>\n",
       "      <td>2.5</td>\n",
       "      <td>1055.0</td>\n",
       "      <td>676.0</td>\n",
       "      <td>28</td>\n",
       "      <td>61.89</td>\n",
       "    </tr>\n",
       "    <tr>\n",
       "      <th>2</th>\n",
       "      <td>332.5</td>\n",
       "      <td>142.5</td>\n",
       "      <td>0.0</td>\n",
       "      <td>228.0</td>\n",
       "      <td>0.0</td>\n",
       "      <td>932.0</td>\n",
       "      <td>594.0</td>\n",
       "      <td>270</td>\n",
       "      <td>40.27</td>\n",
       "    </tr>\n",
       "    <tr>\n",
       "      <th>3</th>\n",
       "      <td>332.5</td>\n",
       "      <td>142.5</td>\n",
       "      <td>0.0</td>\n",
       "      <td>228.0</td>\n",
       "      <td>0.0</td>\n",
       "      <td>932.0</td>\n",
       "      <td>594.0</td>\n",
       "      <td>365</td>\n",
       "      <td>41.05</td>\n",
       "    </tr>\n",
       "    <tr>\n",
       "      <th>4</th>\n",
       "      <td>198.6</td>\n",
       "      <td>132.4</td>\n",
       "      <td>0.0</td>\n",
       "      <td>192.0</td>\n",
       "      <td>0.0</td>\n",
       "      <td>978.4</td>\n",
       "      <td>825.5</td>\n",
       "      <td>360</td>\n",
       "      <td>44.30</td>\n",
       "    </tr>\n",
       "  </tbody>\n",
       "</table>\n",
       "</div>"
      ],
      "text/plain": [
       "   cement  blast_furnace_slag  fly_ash  water  superplasticizer  \\\n",
       "0   540.0                 0.0      0.0  162.0               2.5   \n",
       "1   540.0                 0.0      0.0  162.0               2.5   \n",
       "2   332.5               142.5      0.0  228.0               0.0   \n",
       "3   332.5               142.5      0.0  228.0               0.0   \n",
       "4   198.6               132.4      0.0  192.0               0.0   \n",
       "\n",
       "   coarse_aggregate  fine_aggregate   age  concrete_compressive_strength  \n",
       "0            1040.0            676.0   28                          79.99  \n",
       "1            1055.0            676.0   28                          61.89  \n",
       "2             932.0            594.0  270                          40.27  \n",
       "3             932.0            594.0  365                          41.05  \n",
       "4             978.4            825.5  360                          44.30  "
      ]
     },
     "execution_count": 51,
     "metadata": {},
     "output_type": "execute_result"
    }
   ],
   "source": [
    "# Load data\n",
    "concrete = pd.read_csv('data/concrete_data.csv')\n",
    "concrete.head()"
   ]
  },
  {
   "cell_type": "code",
   "execution_count": 52,
   "metadata": {},
   "outputs": [],
   "source": [
    "# Separate X and Y\n",
    "# Then separate test and train set\n",
    "# Also do the Cross-Validation (optional)\n",
    "X = concrete.drop('concrete_compressive_strength', axis = 1)\n",
    "y = concrete['concrete_compressive_strength']\n",
    "\n",
    "X_train, X_test, y_train, y_test = train_test_split(X, y, test_size = 0.7, random_state = 42)"
   ]
  },
  {
   "cell_type": "code",
   "execution_count": 53,
   "metadata": {},
   "outputs": [],
   "source": [
    "# Activation function\n",
    "def logistic(x):\n",
    "    return 1/(1 + math.exp(-x))\n",
    "\n",
    "def ReLU(x):\n",
    "    return max(0, x)\n",
    "\n",
    "def hyperbolic(x):\n",
    "    return math.tanh(x)\n",
    "\n",
    "class ActFunc(Enum):\n",
    "    log = logistic\n",
    "    relu = ReLU\n",
    "    hb = hyperbolic"
   ]
  },
  {
   "cell_type": "code",
   "execution_count": 54,
   "metadata": {},
   "outputs": [],
   "source": [
    "# Neural Network test!\n",
    "from neuralNet import neuralNet\n",
    "from layer import layer\n",
    "\n",
    "network = neuralNet()\n",
    "\n",
    "network.add(layer(ActFunc.relu,3))\n",
    "#network.add(layer(ActFunc.relu,8))\n",
    "#network.add(layer(ActFunc.hb, 10))\n",
    "network.add(layer(ActFunc.relu,1))"
   ]
  },
  {
   "cell_type": "markdown",
   "metadata": {},
   "source": [
    "Applying NN on the concrete data"
   ]
  },
  {
   "cell_type": "code",
   "execution_count": 55,
   "metadata": {},
   "outputs": [
    {
     "name": "stdout",
     "output_type": "stream",
     "text": [
      "Current best = 727.0712693163798\n",
      "Current best pos =  [0.83002908 0.04709527 0.25723075 0.07891659 0.60443344 0.92117174\n",
      " 0.71189357 0.35343073 0.69130832 0.08509184 0.28908775 0.43562659\n",
      " 0.84491098 0.75514208 0.51539563 0.26167976 0.56633872 0.7409007\n",
      " 0.37097448 0.16770062 0.09776059 0.67950701 0.77300491 0.08449984\n",
      " 0.17719138 0.00570182 0.29221611 0.3017859  0.94383327 0.62773629\n",
      " 0.99122327]\n",
      "Current best = 501.4934654021044\n",
      "Current best pos =  [0.76643924 0.36192454 0.82165295 0.58653923 0.25946341 0.03850269\n",
      " 0.28129559 0.09891311 0.5439008  0.61790711 0.95100291 0.37229178\n",
      " 0.15659951 0.30532676 0.17513396 0.57335139 0.09002391 0.90813255\n",
      " 0.56008642 0.05906003 0.82585678 0.77082343 0.32171108 0.98065904\n",
      " 0.34432591 0.17480907 0.14871252 0.02723279 0.45308587 0.35042389\n",
      " 0.19103882]\n",
      "Current best = 439.8999999246632\n",
      "Current best pos =  [0.03922941 0.49898318 0.28014034 0.0233781  0.06494435 0.14434586\n",
      " 0.45688523 0.56942125 0.2235337  0.73685531 0.28594634 0.66676356\n",
      " 0.78481814 0.59033459 0.97248963 0.98589696 0.28161127 0.80976074\n",
      " 0.31258354 0.19610144 0.4296827  0.18690748 0.32877104 0.92889307\n",
      " 0.01251201 0.08453584 0.49169882 0.54137968 0.33492323 0.53955543\n",
      " 0.66204242]\n",
      "Current best = 364.9239461946087\n",
      "Current best pos =  [0.56301989 0.52617944 0.27149052 0.28292295 0.65934031 0.40601601\n",
      " 0.12749314 0.84394001 0.81371307 0.02364305 0.39724116 0.56146722\n",
      " 0.24396968 0.01780341 0.04551731 0.48180476 0.72583914 0.49458478\n",
      " 0.82431413 0.96225251 0.75335032 0.21150411 0.42579629 0.19344764\n",
      " 0.00999165 0.26657531 0.2740656  0.05733208 0.98268634 0.13148354\n",
      " 0.68890381]\n",
      "Current best = 291.0407161490286\n",
      "Current best pos =  [ 0.72343485  1.00549048  0.67014809  0.84458811  0.92185392  0.50008369\n",
      "  0.58341132  0.87280976  0.33277233  0.52995323  0.73385663  1.03529376\n",
      "  0.80395188  0.55838911  0.65880657  0.9933255   0.83638616  1.18312967\n",
      "  0.58193571  0.83470863  0.98777206  0.44504131  0.53512483  1.292759\n",
      "  0.02522498 -0.29030019  0.50360654  0.53660205  1.07785962  0.63145118\n",
      "  0.7806336 ]\n",
      "Current best = 125.72123762100621\n",
      "Current best pos =  [ 0.72252262  1.10711497  0.66433397  0.82147024  0.83534225  0.1036457\n",
      "  0.7234107   0.7902098   0.64458898  0.15953202  0.2310253   1.24334213\n",
      "  0.32452726  0.57058453  0.69647021  1.28576609  0.73336986  1.08934613\n",
      "  1.10518232  0.65660163  1.08391764  0.64300849  0.2225743   0.7970817\n",
      " -0.0579161   0.00413435  0.16971531  0.5117815   0.83038726  0.75853502\n",
      "  0.83765131]\n",
      "Current best = 40.87931559851767\n",
      "Current best pos =  [ 0.66683376  0.9488718   0.58093109  0.84854201  0.95040596  0.60182361\n",
      "  0.71255531  0.88602895  0.2881833   0.52903012  0.87906261  0.95194547\n",
      "  0.80670814  0.35621209  0.82707871  0.93122754  0.87138775  1.24907862\n",
      "  0.47478903  1.07174913  1.20315176  0.51366646  0.66442683  1.24259216\n",
      " -0.1486836  -0.45684836  0.56976159  0.47642871  1.33910575  0.63340099\n",
      "  0.71406466]\n",
      "Current best = 33.274391788349405\n",
      "Current best pos =  [ 0.87788283  0.67758823  0.71960967  0.26296646  0.73287475  0.79881201\n",
      "  0.76134665  0.77896893  0.27032535 -0.03823059  0.50110677  0.75721609\n",
      "  0.88824231  0.54065764  0.89003449  0.70715072  0.87814816  1.44083354\n",
      "  0.43804402  0.01360242  0.35252878  0.07200253  0.70299843  0.91599332\n",
      "  0.00267212 -0.20588391  0.2564764   0.46541314  1.20234131  0.52880004\n",
      "  0.73901544]\n",
      "Current best = 21.315912987480715\n",
      "Current best pos =  [ 0.66530557  1.16004727  0.89113116  0.69609172  0.41787177  0.63788868\n",
      "  0.4936389   0.82292011  0.51574074  0.11831322  0.83509467  0.99729832\n",
      "  0.84435605  0.50069261  0.68902208  0.49820415  0.98603791  0.96490634\n",
      "  0.57332201  0.70721872  0.61161084  0.35354243  0.51189509  1.22147665\n",
      " -0.10739615 -0.24326549  0.3979398   0.65365726  1.02881135  0.5894287\n",
      "  0.331151  ]\n",
      "Current best = 17.338301064785473\n",
      "Current best pos =  [ 0.7153948   1.85992913  0.51848958  0.82503445  0.69522671  0.57106259\n",
      "  0.64225689  0.92319116  0.29659389  0.45630621  0.67072801  0.9199499\n",
      "  0.72814327  0.49717441  0.23722933  0.90825814  0.78284303  0.97730007\n",
      "  0.52486048  0.58847869  1.15168235  0.52781131  0.63439856  0.9941263\n",
      " -0.19973648 -0.20021532  0.37207412  0.58231854  1.15826474  0.54909076\n",
      "  0.67334062]\n",
      "Final best =  17.338301064785473\n",
      "Final best pos =  [ 0.7153948   1.85992913  0.51848958  0.82503445  0.69522671  0.57106259\n",
      "  0.64225689  0.92319116  0.29659389  0.45630621  0.67072801  0.9199499\n",
      "  0.72814327  0.49717441  0.23722933  0.90825814  0.78284303  0.97730007\n",
      "  0.52486048  0.58847869  1.15168235  0.52781131  0.63439856  0.9941263\n",
      " -0.19973648 -0.20021532  0.37207412  0.58231854  1.15826474  0.54909076\n",
      "  0.67334062]\n"
     ]
    }
   ],
   "source": [
    "# PSO test!\n",
    "import pso\n",
    "\n",
    "swarmsize = 10\n",
    "alpha = 0.7\n",
    "beta = 2\n",
    "gamma = 1.5\n",
    "delta = 1.5\n",
    "epsilon = 0.4\n",
    "\n",
    "particle_swarm_opti = pso.PSO(X_train, y_train, network, swarmsize, alpha, beta, gamma, delta, epsilon)\n",
    "opti_particle = particle_swarm_opti.optimise()\n",
    "\n"
   ]
  },
  {
   "cell_type": "code",
   "execution_count": 56,
   "metadata": {},
   "outputs": [
    {
     "data": {
      "text/plain": [
       "17.338301064785473"
      ]
     },
     "execution_count": 56,
     "metadata": {},
     "output_type": "execute_result"
    }
   ],
   "source": [
    "# Testing the optimisation\n",
    "# Ooooo bad bad result :D\n",
    "particle_swarm_opti.assessFitness(opti_particle, y_train)"
   ]
  },
  {
   "cell_type": "code",
   "execution_count": 57,
   "metadata": {},
   "outputs": [
    {
     "data": {
      "text/plain": [
       "18.292165720238405"
      ]
     },
     "execution_count": 57,
     "metadata": {},
     "output_type": "execute_result"
    }
   ],
   "source": [
    "# Testing with the test set\n",
    "weights, bias = particle_swarm_opti.assessFitness_helper(opti_particle) # Extract the optimised weight and bias\n",
    "# Apply on the NN\n",
    "y_pred = X_test.apply(network.forwardCalculation, args = (weights, bias), axis = 1)\n",
    "mse = network.sseCalculation(y_pred, y_test)\n",
    "mse"
   ]
  },
  {
   "cell_type": "code",
   "execution_count": null,
   "metadata": {},
   "outputs": [],
   "source": [
    "# Potential ranges of PSO parameters to try\n",
    "# Could try them like a gridsearch but its probably a bit too much for that, tuning one at a time is probably the way to go\n",
    "\n",
    "alphaRange = np.arange(0.4,0.9,0.1)\n",
    "betaRange = np.arange(1.5,2.5,0.1)\n",
    "gammaRange = np.arange(1.5,2.5,0.1)\n",
    "deltaRange = np.arange(1.5,2.5,0.1)\n",
    "epsilonRange = np.arange(0.1,0.5,0.1) # not sure about the range of the learning rate, might need to experiment or look for more sources"
   ]
  }
 ],
 "metadata": {
  "kernelspec": {
   "display_name": "Python 3",
   "language": "python",
   "name": "python3"
  },
  "language_info": {
   "codemirror_mode": {
    "name": "ipython",
    "version": 3
   },
   "file_extension": ".py",
   "mimetype": "text/x-python",
   "name": "python",
   "nbconvert_exporter": "python",
   "pygments_lexer": "ipython3",
   "version": "3.10.11"
  }
 },
 "nbformat": 4,
 "nbformat_minor": 2
}
