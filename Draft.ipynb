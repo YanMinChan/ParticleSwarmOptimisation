{
 "cells": [
  {
   "cell_type": "markdown",
   "metadata": {},
   "source": [
    "Task 1: Multi-layer ANN\n",
    "\n",
    "Hyperparameters:\n",
    " 1. Number of nodes\n",
    " 2. Number of layers\n",
    " 3. Activation function"
   ]
  },
  {
   "cell_type": "code",
   "execution_count": 1,
   "metadata": {},
   "outputs": [],
   "source": [
    "# Load library\n",
    "import pandas as pd\n",
    "import numpy as np\n",
    "import math\n",
    "from enum import Enum\n",
    "import random\n",
    "from sklearn.model_selection import train_test_split"
   ]
  },
  {
   "cell_type": "code",
   "execution_count": 2,
   "metadata": {},
   "outputs": [
    {
     "data": {
      "text/html": [
       "<div>\n",
       "<style scoped>\n",
       "    .dataframe tbody tr th:only-of-type {\n",
       "        vertical-align: middle;\n",
       "    }\n",
       "\n",
       "    .dataframe tbody tr th {\n",
       "        vertical-align: top;\n",
       "    }\n",
       "\n",
       "    .dataframe thead th {\n",
       "        text-align: right;\n",
       "    }\n",
       "</style>\n",
       "<table border=\"1\" class=\"dataframe\">\n",
       "  <thead>\n",
       "    <tr style=\"text-align: right;\">\n",
       "      <th></th>\n",
       "      <th>cement</th>\n",
       "      <th>blast_furnace_slag</th>\n",
       "      <th>fly_ash</th>\n",
       "      <th>water</th>\n",
       "      <th>superplasticizer</th>\n",
       "      <th>coarse_aggregate</th>\n",
       "      <th>fine_aggregate</th>\n",
       "      <th>age</th>\n",
       "      <th>concrete_compressive_strength</th>\n",
       "    </tr>\n",
       "  </thead>\n",
       "  <tbody>\n",
       "    <tr>\n",
       "      <th>0</th>\n",
       "      <td>540.0</td>\n",
       "      <td>0.0</td>\n",
       "      <td>0.0</td>\n",
       "      <td>162.0</td>\n",
       "      <td>2.5</td>\n",
       "      <td>1040.0</td>\n",
       "      <td>676.0</td>\n",
       "      <td>28</td>\n",
       "      <td>79.99</td>\n",
       "    </tr>\n",
       "    <tr>\n",
       "      <th>1</th>\n",
       "      <td>540.0</td>\n",
       "      <td>0.0</td>\n",
       "      <td>0.0</td>\n",
       "      <td>162.0</td>\n",
       "      <td>2.5</td>\n",
       "      <td>1055.0</td>\n",
       "      <td>676.0</td>\n",
       "      <td>28</td>\n",
       "      <td>61.89</td>\n",
       "    </tr>\n",
       "    <tr>\n",
       "      <th>2</th>\n",
       "      <td>332.5</td>\n",
       "      <td>142.5</td>\n",
       "      <td>0.0</td>\n",
       "      <td>228.0</td>\n",
       "      <td>0.0</td>\n",
       "      <td>932.0</td>\n",
       "      <td>594.0</td>\n",
       "      <td>270</td>\n",
       "      <td>40.27</td>\n",
       "    </tr>\n",
       "    <tr>\n",
       "      <th>3</th>\n",
       "      <td>332.5</td>\n",
       "      <td>142.5</td>\n",
       "      <td>0.0</td>\n",
       "      <td>228.0</td>\n",
       "      <td>0.0</td>\n",
       "      <td>932.0</td>\n",
       "      <td>594.0</td>\n",
       "      <td>365</td>\n",
       "      <td>41.05</td>\n",
       "    </tr>\n",
       "    <tr>\n",
       "      <th>4</th>\n",
       "      <td>198.6</td>\n",
       "      <td>132.4</td>\n",
       "      <td>0.0</td>\n",
       "      <td>192.0</td>\n",
       "      <td>0.0</td>\n",
       "      <td>978.4</td>\n",
       "      <td>825.5</td>\n",
       "      <td>360</td>\n",
       "      <td>44.30</td>\n",
       "    </tr>\n",
       "  </tbody>\n",
       "</table>\n",
       "</div>"
      ],
      "text/plain": [
       "   cement  blast_furnace_slag  fly_ash  water  superplasticizer  \\\n",
       "0   540.0                 0.0      0.0  162.0               2.5   \n",
       "1   540.0                 0.0      0.0  162.0               2.5   \n",
       "2   332.5               142.5      0.0  228.0               0.0   \n",
       "3   332.5               142.5      0.0  228.0               0.0   \n",
       "4   198.6               132.4      0.0  192.0               0.0   \n",
       "\n",
       "   coarse_aggregate  fine_aggregate   age  concrete_compressive_strength  \n",
       "0            1040.0            676.0   28                          79.99  \n",
       "1            1055.0            676.0   28                          61.89  \n",
       "2             932.0            594.0  270                          40.27  \n",
       "3             932.0            594.0  365                          41.05  \n",
       "4             978.4            825.5  360                          44.30  "
      ]
     },
     "execution_count": 2,
     "metadata": {},
     "output_type": "execute_result"
    }
   ],
   "source": [
    "# Load data\n",
    "concrete = pd.read_csv('data/concrete_data.csv')\n",
    "concrete.head()"
   ]
  },
  {
   "cell_type": "code",
   "execution_count": 3,
   "metadata": {},
   "outputs": [],
   "source": [
    "# Separate X and Y\n",
    "# Then separate test and train set\n",
    "# Also do the Cross-Validation (optional)\n",
    "X = concrete.drop('concrete_compressive_strength', axis = 1)\n",
    "y = concrete['concrete_compressive_strength']\n",
    "\n",
    "X_train, X_test, y_train, y_test = train_test_split(X, y, test_size = 0.7, random_state = 42)"
   ]
  },
  {
   "cell_type": "code",
   "execution_count": 4,
   "metadata": {},
   "outputs": [],
   "source": [
    "# Activation function\n",
    "def logistic(x):\n",
    "    return 1/(1 + math.exp(-x))\n",
    "\n",
    "def ReLU(x):\n",
    "    return max(0, x)\n",
    "\n",
    "def hyperbolic(x):\n",
    "    return math.tanh(x)\n",
    "\n",
    "class ActFunc(Enum):\n",
    "    log = logistic\n",
    "    relu = ReLU\n",
    "    hb = hyperbolic"
   ]
  },
  {
   "cell_type": "code",
   "execution_count": 5,
   "metadata": {},
   "outputs": [],
   "source": [
    "# Neural Network test!\n",
    "from neuralNet import neuralNet\n",
    "from layer import layer\n",
    "\n",
    "network = neuralNet()\n",
    "\n",
    "network.add(layer(ActFunc.relu,3))\n",
    "# network.add(layer(ActFunc.relu, 10))\n",
    "network.add(layer(ActFunc.relu,1))"
   ]
  },
  {
   "cell_type": "markdown",
   "metadata": {},
   "source": [
    "Applying NN on the concrete data"
   ]
  },
  {
   "cell_type": "code",
   "execution_count": 6,
   "metadata": {},
   "outputs": [
    {
     "data": {
      "text/html": [
       "<div>\n",
       "<style scoped>\n",
       "    .dataframe tbody tr th:only-of-type {\n",
       "        vertical-align: middle;\n",
       "    }\n",
       "\n",
       "    .dataframe tbody tr th {\n",
       "        vertical-align: top;\n",
       "    }\n",
       "\n",
       "    .dataframe thead th {\n",
       "        text-align: right;\n",
       "    }\n",
       "</style>\n",
       "<table border=\"1\" class=\"dataframe\">\n",
       "  <thead>\n",
       "    <tr style=\"text-align: right;\">\n",
       "      <th></th>\n",
       "      <th>cement</th>\n",
       "      <th>blast_furnace_slag</th>\n",
       "      <th>fly_ash</th>\n",
       "      <th>water</th>\n",
       "      <th>superplasticizer</th>\n",
       "      <th>coarse_aggregate</th>\n",
       "      <th>fine_aggregate</th>\n",
       "      <th>age</th>\n",
       "    </tr>\n",
       "  </thead>\n",
       "  <tbody>\n",
       "    <tr>\n",
       "      <th>571</th>\n",
       "      <td>228.0</td>\n",
       "      <td>342.1</td>\n",
       "      <td>0.0</td>\n",
       "      <td>185.7</td>\n",
       "      <td>0.0</td>\n",
       "      <td>955.8</td>\n",
       "      <td>674.3</td>\n",
       "      <td>28</td>\n",
       "    </tr>\n",
       "    <tr>\n",
       "      <th>623</th>\n",
       "      <td>307.0</td>\n",
       "      <td>0.0</td>\n",
       "      <td>0.0</td>\n",
       "      <td>193.0</td>\n",
       "      <td>0.0</td>\n",
       "      <td>968.0</td>\n",
       "      <td>812.0</td>\n",
       "      <td>3</td>\n",
       "    </tr>\n",
       "    <tr>\n",
       "      <th>740</th>\n",
       "      <td>297.0</td>\n",
       "      <td>0.0</td>\n",
       "      <td>0.0</td>\n",
       "      <td>186.0</td>\n",
       "      <td>0.0</td>\n",
       "      <td>1040.0</td>\n",
       "      <td>734.0</td>\n",
       "      <td>7</td>\n",
       "    </tr>\n",
       "    <tr>\n",
       "      <th>750</th>\n",
       "      <td>500.0</td>\n",
       "      <td>0.0</td>\n",
       "      <td>0.0</td>\n",
       "      <td>200.0</td>\n",
       "      <td>0.0</td>\n",
       "      <td>1125.0</td>\n",
       "      <td>613.0</td>\n",
       "      <td>28</td>\n",
       "    </tr>\n",
       "    <tr>\n",
       "      <th>262</th>\n",
       "      <td>212.6</td>\n",
       "      <td>0.0</td>\n",
       "      <td>100.4</td>\n",
       "      <td>159.4</td>\n",
       "      <td>10.4</td>\n",
       "      <td>1003.8</td>\n",
       "      <td>903.8</td>\n",
       "      <td>56</td>\n",
       "    </tr>\n",
       "  </tbody>\n",
       "</table>\n",
       "</div>"
      ],
      "text/plain": [
       "     cement  blast_furnace_slag  fly_ash  water  superplasticizer  \\\n",
       "571   228.0               342.1      0.0  185.7               0.0   \n",
       "623   307.0                 0.0      0.0  193.0               0.0   \n",
       "740   297.0                 0.0      0.0  186.0               0.0   \n",
       "750   500.0                 0.0      0.0  200.0               0.0   \n",
       "262   212.6                 0.0    100.4  159.4              10.4   \n",
       "\n",
       "     coarse_aggregate  fine_aggregate   age  \n",
       "571             955.8            674.3   28  \n",
       "623             968.0            812.0    3  \n",
       "740            1040.0            734.0    7  \n",
       "750            1125.0            613.0   28  \n",
       "262            1003.8            903.8   56  "
      ]
     },
     "execution_count": 6,
     "metadata": {},
     "output_type": "execute_result"
    }
   ],
   "source": [
    "X_demo = X_train.head()\n",
    "X_demo"
   ]
  },
  {
   "cell_type": "code",
   "execution_count": 7,
   "metadata": {},
   "outputs": [],
   "source": [
    "y_demo = y_train.head()"
   ]
  },
  {
   "cell_type": "code",
   "execution_count": 8,
   "metadata": {},
   "outputs": [
    {
     "data": {
      "text/plain": [
       "[array([[0.37785953, 0.09018728, 0.809685  , 0.82111103, 0.75904051,\n",
       "         0.2505754 , 0.463281  , 0.67928638],\n",
       "        [0.71993533, 0.82118944, 0.3535708 , 0.35567285, 0.22646835,\n",
       "         0.97134793, 0.14110998, 0.10307397],\n",
       "        [0.33459719, 0.92148268, 0.94679621, 0.27459224, 0.64319683,\n",
       "         0.16850399, 0.33805511, 0.63827242]]),\n",
       " array([[0.34249386, 0.52939952, 0.20783265]])]"
      ]
     },
     "execution_count": 8,
     "metadata": {},
     "output_type": "execute_result"
    }
   ],
   "source": [
    "pos = np.random.rand(31)\n",
    "\n",
    "weights = pos[0:27]\n",
    "weights_arr = []\n",
    "j = 0\n",
    "for i in range(len(network.layers)):\n",
    "    weight_mat = np.reshape(weights[j:j + (network.layers[i].numOfNodes * 8)], (network.layers[i].numOfNodes, -1))\n",
    "    weights_arr.append(weight_mat)\n",
    "    j = j + (network.layers[i].numOfNodes * 8)\n",
    "    input = network.layers[i].numOfNodes\n",
    "\n",
    "\n",
    "bias = pos[27:31] # Total num of nodes in the NN\n",
    "bias_arr = []\n",
    "j = 0\n",
    "for i in range(len(network.layers)):\n",
    "    bias_arr.append(bias[j:j + network.layers[i].numOfNodes])\n",
    "    j = j + network.layers[i].numOfNodes\n",
    "\n",
    "weights_arr"
   ]
  },
  {
   "cell_type": "code",
   "execution_count": 9,
   "metadata": {},
   "outputs": [
    {
     "data": {
      "text/plain": [
       "7056267.003378529"
      ]
     },
     "execution_count": 9,
     "metadata": {},
     "output_type": "execute_result"
    }
   ],
   "source": [
    "yhat = X_demo.apply(network.forwardCalculation, args = (weights_arr, bias_arr), axis = 1)\n",
    "network.sseCalculation(yhat, y_demo)"
   ]
  },
  {
   "cell_type": "code",
   "execution_count": 10,
   "metadata": {},
   "outputs": [],
   "source": [
    "class Particle:\n",
    "\n",
    "    def __init__(self, pos, velo, alpha, beta, gamma, delta):\n",
    "        self.pos = pos\n",
    "        self.velo = velo\n",
    "        self.alpha = alpha\n",
    "        self.beta = beta\n",
    "        self.gamma = gamma\n",
    "        self.delta = delta\n",
    "        self.prevBest = pos # Not sure should put pos or None here\n",
    "        self.informant = []\n",
    "\n",
    "    def changeVelo(self, xloc, xbest, infbest, globbest):\n",
    "        for i in range(len(self.velo)):\n",
    "            # Generate rand num from beta, gamma and delta\n",
    "            b = np.random.rand() * self.beta\n",
    "            c = np.random.rand() * self.gamma\n",
    "            d = np.random.rand() * self.delta\n",
    "            self.velo[i] = self.alpha * self.velo[i] + b * (xbest[i] - xloc[i]) + c * (infbest[i] - xloc[i]) + d * (globbest[i] - xloc[i])"
   ]
  },
  {
   "cell_type": "code",
   "execution_count": 11,
   "metadata": {},
   "outputs": [
    {
     "data": {
      "text/plain": [
       "3"
      ]
     },
     "execution_count": 11,
     "metadata": {},
     "output_type": "execute_result"
    }
   ],
   "source": [
    "network.layers[0].numOfNodes"
   ]
  },
  {
   "cell_type": "code",
   "execution_count": null,
   "metadata": {},
   "outputs": [],
   "source": [
    "# PSO class to train weight\n",
    "# The inputLen is the num of attribute of the cement: 8\n",
    "\n",
    "class PSO:\n",
    "    \n",
    "\n",
    "    def __init__(self, X, y, network, swarmsize, alpha, beta, gamma, delta, epsilon):\n",
    "        self.X = X\n",
    "        self.y = y\n",
    "        self.swarmsize = swarmsize\n",
    "        self.network = network\n",
    "        self.alpha = alpha\n",
    "        self.beta = beta\n",
    "        self.gamma = gamma\n",
    "        self.delta = delta\n",
    "        self.epsilon = epsilon\n",
    "        self.particles = None\n",
    "\n",
    "    def particleDim(self):\n",
    "        dim = 0\n",
    "        inputLen = len(X.columns)\n",
    "        for i in range(len(self.network.layers)):\n",
    "            dim = dim + ((self.network.layers[i].numOfNodes * inputLen) + self.network.layers[i].numOfNodes) # plus 1 for bias\n",
    "            inputLen = self.network.layers[i].numOfNodes\n",
    "        return dim\n",
    "    \n",
    "    # Array of random particles\n",
    "    def randParticle(self):\n",
    "        self.particles = []\n",
    "        for i in range(self.swarmsize):\n",
    "            #np.random.seed(0) # fix the random for easier checking\n",
    "            pos = np.random.rand(self.particleDim())\n",
    "            velo = np.random.rand(self.particleDim())\n",
    "            self.particles.append(Particle(pos, velo, self.alpha, self.beta, self.gamma, self.delta)) # Try to add rand particle here\n",
    "        return self.particles\n",
    "    \n",
    "    # Randomly assign informants to particle\n",
    "    def randAssignInformant(self, numOfInformant):\n",
    "        for particle in self.particles:\n",
    "            other_particles = self.particles.copy()\n",
    "            other_particles.remove(particle)\n",
    "            for i in range(numOfInformant):\n",
    "                particle.informant = random.sample(other_particles, numOfInformant)\n",
    "\n",
    "    # Return the fittest location of all particles given\n",
    "    def fittestLoc(self, someParticles):\n",
    "        fittest_pos = None\n",
    "        fittest_sse = None\n",
    "        for p in someParticles: # supposed to be particle instead of list\n",
    "            sse = self.assessFitness(p.pos)\n",
    "            if fittest_sse == None or sse < fittest_sse:\n",
    "                fittest_sse = sse\n",
    "                fittest_pos = p.pos\n",
    "        return fittest_pos\n",
    "\n",
    "\n",
    "\n",
    "    # return the nice weight and bias matrix\n",
    "    def assessFitness_helper(self, pos):\n",
    "        # Put the weights into a nice matrix\n",
    "        weights_arr = []\n",
    "        inputLen = len(X.columns)\n",
    "        temp_inputLen = inputLen\n",
    "        j = 0\n",
    "        for i in range(len(network.layers)):\n",
    "            weight_mat = np.reshape(pos[j:j + (network.layers[i].numOfNodes * temp_inputLen)], (network.layers[i].numOfNodes, -1))\n",
    "            weights_arr.append(weight_mat)\n",
    "            j = j + (network.layers[i].numOfNodes * temp_inputLen)\n",
    "            temp_inputLen = network.layers[i].numOfNodes\n",
    "\n",
    "        # Put the bias into a nice matrix\n",
    "        bias_arr = []\n",
    "        for i in range(len(network.layers)):\n",
    "            bias_arr.append(pos[j:j + network.layers[i].numOfNodes])\n",
    "            j = j + network.layers[i].numOfNodes\n",
    "\n",
    "        return weights_arr, bias_arr\n",
    "\n",
    "    # Check fitness of the particle\n",
    "    # Also saves new best to the particle\n",
    "    def assessFitness(self, pos):\n",
    "        # Calculate sse of current pos\n",
    "        weights_arr, bias_arr = self.assessFitness_helper(pos)\n",
    "        \n",
    "        # Calculate the pred y\n",
    "        yhat = X.apply(network.forwardCalculation, args = (weights_arr, bias_arr), axis = 1)\n",
    "        sse = network.sseCalculation(yhat, y)\n",
    "\n",
    "        return sse\n",
    "    \n",
    "    # (Additional) Calculate sse of prev best pos and compare\n",
    "    def isNewBest(self, sse, particle):\n",
    "        \n",
    "        prevBest = particle.prevBest\n",
    "        sse_prev = self.assessFitness(prevBest)\n",
    "\n",
    "        if sse < sse_prev:\n",
    "            particle.prevBest = pos\n",
    "\n",
    "    def optimise(self):\n",
    "        inputLen = len(X.columns)\n",
    "        # Initialize rand particle and global best\n",
    "        self.randParticle()\n",
    "        self.randAssignInformant(1)\n",
    "        best = self.particles[0]\n",
    "        best_sse = None\n",
    "\n",
    "        # There should be another for loop here covering all the steps until we reach an optimal best\n",
    "        #while (self.assessFitness(best.pos) >= 1000):\n",
    "        for i in range(10):\n",
    "            # Access fitness of each particle (set of weights)\n",
    "            for particle in self.particles:\n",
    "                sse = self.assessFitness(particle.pos)\n",
    "                self.isNewBest(sse, particle)\n",
    "                if best_sse == None or sse < best_sse:\n",
    "                    best = particle\n",
    "                    best_sse = sse\n",
    "                \n",
    "            # Gather information\n",
    "            for particle in self.particles:\n",
    "                x_star = particle.prevBest\n",
    "                x_plus = self.fittestLoc(particle.informant)\n",
    "                x_prime = self.fittestLoc(self.particles)\n",
    "\n",
    "                # Do the change velo\n",
    "                particle.changeVelo(particle.pos, x_star, x_plus, x_prime)\n",
    "                    \n",
    "                # Do the change pos\n",
    "                particle.pos = particle.pos + (self.epsilon * particle.velo)\n",
    "        return best\n",
    "\n",
    "\n",
    "    "
   ]
  },
  {
   "cell_type": "code",
   "execution_count": 13,
   "metadata": {},
   "outputs": [],
   "source": [
    "swarmsize = 10\n",
    "alpha = 0.5\n",
    "beta = 1\n",
    "gamma = 1\n",
    "delta = 2\n",
    "epsilon = 0.3\n",
    "\n",
    "pso = PSO(X_demo, y_demo, network, swarmsize, alpha, beta, gamma, delta, epsilon)\n",
    "opti_particle = pso.optimise()\n",
    "\n"
   ]
  },
  {
   "cell_type": "code",
   "execution_count": 14,
   "metadata": {},
   "outputs": [
    {
     "name": "stdout",
     "output_type": "stream",
     "text": [
      "[<__main__.Particle object at 0x000002BA0928EF30>, <__main__.Particle object at 0x000002BA0970ABD0>, <__main__.Particle object at 0x000002BA098C71A0>, <__main__.Particle object at 0x000002BA098C7980>, <__main__.Particle object at 0x000002BA098C53D0>, <__main__.Particle object at 0x000002BA098C7890>, <__main__.Particle object at 0x000002BA098C7E90>, <__main__.Particle object at 0x000002BA098C7500>, <__main__.Particle object at 0x000002BA098C7FB0>, <__main__.Particle object at 0x000002BA098C7710>]\n",
      "[<__main__.Particle object at 0x000002BA098C53D0>]\n",
      "[<__main__.Particle object at 0x000002BA0928EF30>]\n",
      "[<__main__.Particle object at 0x000002BA098C7500>]\n",
      "[<__main__.Particle object at 0x000002BA098C7500>]\n",
      "[<__main__.Particle object at 0x000002BA098C7E90>]\n",
      "[<__main__.Particle object at 0x000002BA098C7E90>]\n",
      "[<__main__.Particle object at 0x000002BA0928EF30>]\n",
      "[<__main__.Particle object at 0x000002BA098C71A0>]\n",
      "[<__main__.Particle object at 0x000002BA0970ABD0>]\n",
      "[<__main__.Particle object at 0x000002BA098C7890>]\n"
     ]
    }
   ],
   "source": [
    "print(pso.particles)\n",
    "for i in range(10):\n",
    "    print(pso.particles[i].informant)\n"
   ]
  },
  {
   "cell_type": "code",
   "execution_count": 15,
   "metadata": {},
   "outputs": [
    {
     "data": {
      "text/plain": [
       "array([0.34036193, 0.04896464, 0.82131334, 0.76415344, 0.71306226,\n",
       "       0.16714509, 0.44440616, 0.60099774, 0.69004638, 0.69854025,\n",
       "       0.38812486, 0.43834357, 0.12643681, 1.00052594, 0.10786996,\n",
       "       0.0872065 , 0.3228642 , 0.90026687, 0.7944772 , 0.12280021,\n",
       "       0.58174924, 0.1144232 , 0.34334381, 0.62738731, 0.27740221,\n",
       "       0.38850181, 0.13177994, 0.1560617 , 0.22445069, 0.33873769,\n",
       "       0.78929113])"
      ]
     },
     "execution_count": 15,
     "metadata": {},
     "output_type": "execute_result"
    }
   ],
   "source": [
    "pso.particles[i].informant[0].pos"
   ]
  },
  {
   "cell_type": "code",
   "execution_count": null,
   "metadata": {},
   "outputs": [
    {
     "data": {
      "text/plain": [
       "654710901.0644403"
      ]
     },
     "execution_count": 16,
     "metadata": {},
     "output_type": "execute_result"
    }
   ],
   "source": [
    "# Testing the optimisation\n",
    "# Ooooo bad bad result :D\n",
    "pso.assessFitness(opti_particle.pos)"
   ]
  }
 ],
 "metadata": {
  "kernelspec": {
   "display_name": "base",
   "language": "python",
   "name": "python3"
  },
  "language_info": {
   "codemirror_mode": {
    "name": "ipython",
    "version": 3
   },
   "file_extension": ".py",
   "mimetype": "text/x-python",
   "name": "python",
   "nbconvert_exporter": "python",
   "pygments_lexer": "ipython3",
   "version": "3.12.4"
  }
 },
 "nbformat": 4,
 "nbformat_minor": 2
}
